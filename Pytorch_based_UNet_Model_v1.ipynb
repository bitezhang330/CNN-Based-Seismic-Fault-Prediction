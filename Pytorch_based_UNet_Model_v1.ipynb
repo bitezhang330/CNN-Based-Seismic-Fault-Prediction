{
 "cells": [
  {
   "cell_type": "code",
   "execution_count": 2,
   "metadata": {
    "hideCode": false,
    "hidePrompt": false
   },
   "outputs": [
    {
     "data": {
      "text/plain": [
       "<torch._C.Generator at 0x1f3678d08b0>"
      ]
     },
     "execution_count": 2,
     "metadata": {},
     "output_type": "execute_result"
    }
   ],
   "source": [
    "import segyio\n",
    "import matplotlib.pyplot as plt\n",
    "import numpy as np\n",
    "\n",
    "import torch\n",
    "from torch import nn\n",
    "from tqdm.auto import tqdm\n",
    "from torchvision import transforms\n",
    "from torchvision.utils import make_grid\n",
    "from torch.utils.data import DataLoader\n",
    "import matplotlib.pyplot as plt\n",
    "torch.manual_seed(0)"
   ]
  },
  {
   "cell_type": "markdown",
   "metadata": {
    "hideCode": false,
    "hidePrompt": false
   },
   "source": [
    "### Contracting Path\n",
    "The contracting path is the encoder section of the U-Net which involves several downsampling steps.\n",
    "It consists of the repeated application of two 3x3 convolutions (unpadded), each followed by a ReLU and 2x2 max pooling operation with stride of 2 for downsampling. At each downsampling step we double the number of feature channels"
   ]
  },
  {
   "cell_type": "code",
   "execution_count": null,
   "metadata": {
    "hideCode": false,
    "hidePrompt": false
   },
   "outputs": [],
   "source": [
    "class ContractingBlock(nn.Module):\n",
    "    '''\n",
    "    ContractingBlock Class\n",
    "    Performs two convolutions followed by a max pool operation.\n",
    "    Values:\n",
    "        input_channels: the number of channels to expect from a given input\n",
    "    '''\n",
    "    def __init__(self, input_channels):\n",
    "        super(ContractingBlock, self).__init__()\n",
    "        \n",
    "        # Wou want to double the number of channels in the first convolution\n",
    "        # and keep the same number of channels in the second.\n",
    "        \n",
    "        self.conv1 = nn.Conv2d(input_channels, 2*input_channels, kernel_size=3, padding=(1,1))\n",
    "        self.conv2 = nn.Conv2d(2*input_channels, 2*input_channels, kernel_size=3, padding=(1,1))\n",
    "        self.activation = nn.ReLU(inplace=True)\n",
    "        self.maxpool = nn.MaxPool2d(kernel_size=2, stride=2)\n",
    "       \n",
    "\n",
    "    def forward(self, x):\n",
    "        '''\n",
    "        Function for completing a forward pass of ContractingBlock: \n",
    "        Given an image tensor, completes a contracting block and returns the transformed tensor.\n",
    "        Parameters:\n",
    "            x: image tensor of shape (batch size, channels, height, width)\n",
    "        '''\n",
    "        x = self.conv1(x)\n",
    "        x = self.activation(x)\n",
    "        x = self.conv2(x)\n",
    "        x = self.activation(x)\n",
    "        x = self.maxpool(x)\n",
    "        return x"
   ]
  },
  {
   "cell_type": "code",
   "execution_count": null,
   "metadata": {
    "hideCode": false,
    "hidePrompt": false
   },
   "outputs": [],
   "source": [
    "# unit test\n",
    "def test_contracting_block(test_samples = 1, test_channels=1, test_size=254):\n",
    "    test_block = ContractingBlock(test_channels)\n",
    "    test_in = torch.randn(test_samples, test_channels, test_size, test_size)\n",
    "    test_out_conv1 = test_block.conv1(test_in)\n",
    "    \n",
    "    # Make sure that the first convolution has the right shape\n",
    "    print(test_out_conv1.shape)\n",
    "#     print(test_block.shape)"
   ]
  },
  {
   "cell_type": "code",
   "execution_count": null,
   "metadata": {
    "hideCode": false,
    "hidePrompt": false
   },
   "outputs": [],
   "source": [
    "test_contracting_block(128)\n",
    "# 1, 512, 60, 60"
   ]
  },
  {
   "cell_type": "markdown",
   "metadata": {
    "hideCode": false,
    "hidePrompt": false
   },
   "source": [
    "### Expanding Path\n",
    "This is the decodign section of U-Net which has several upsampling steps. In order to do this, we will also need to write a crop function so that we can crop the image from contracting path and concatenate it to the current image on the expanding path - this is to form a skip connection.\n",
    "\n",
    "Every step in expanding path consists of an upsampling of the feature map followed by a 2x2 convolution(\"up-convolution\") that halves the number of feature channels, a concatenation with the correspondingly cropped feature map from contracting path and two 3x3 convolutions, each followed by a ReLU. The cropping is necessary due to the loss of border pixels in every convolution.\n",
    "(Later models basded on U-Net often use padding in the convolutions to prevent the size of the image from changing outside of the upsampling /downsampling steps)"
   ]
  },
  {
   "cell_type": "code",
   "execution_count": null,
   "metadata": {
    "hideCode": false,
    "hidePrompt": false
   },
   "outputs": [],
   "source": [
    "# # this is useful when output size is smaller than the input as in the original UNet. \n",
    "# # But for now, we will not apply crop at the skip connection step.\n",
    "# def crop(image, new_shape):\n",
    "#     '''\n",
    "#     Function for cropping an image tensor: Given an image tensor and the new shape,\n",
    "#     crops to the center pixels.\n",
    "#     Parameters:\n",
    "#         image: image tensor of shape (batch size, channels, height, width)\n",
    "#         new_shape: a torch.Size object with the shape you want x to have\n",
    "#     '''\n",
    "#     # There are many ways to implement this crop function, but it's what allows\n",
    "#     # the skip connection to function as intended with two differently sized images!\n",
    "    \n",
    "#     h, w = image.shape[2], image.shape[3]\n",
    "#     new_h, new_w = new_shape[2], new_shape[3]\n",
    "    \n",
    "#     start_h = int((h - new_h + 1)/2)\n",
    "#     start_w = int((w - new_w + 1)/2)\n",
    "    \n",
    "#     cropped_image = image[:, :, start_h:start_h + new_h, start_w:start_w + new_w] \n",
    "    \n",
    "#     return cropped_image"
   ]
  },
  {
   "cell_type": "code",
   "execution_count": null,
   "metadata": {},
   "outputs": [],
   "source": [
    "# # Unit test\n",
    "# def test_crop(test_samples=100, test_channels=10, test_size=100):\n",
    "#     # Make sure that the crop function is the right shape\n",
    "#     skip_con_x = torch.randn(test_samples, test_channels, test_size + 6, test_size + 6)\n",
    "#     x = torch.randn(test_samples, test_channels, test_size, test_size)\n",
    "#     cropped = crop(skip_con_x, x.shape)\n",
    "#     print(cropped.shape)"
   ]
  },
  {
   "cell_type": "code",
   "execution_count": null,
   "metadata": {},
   "outputs": [],
   "source": [
    "# test_crop()"
   ]
  },
  {
   "cell_type": "code",
   "execution_count": null,
   "metadata": {
    "hideCode": false,
    "hidePrompt": false
   },
   "outputs": [],
   "source": [
    "class ExpandingBlock(nn.Module):\n",
    "    '''\n",
    "    ExpandingBlock Class\n",
    "    Performs an upsampling, a convolution, a concatenation of its two inputs,\n",
    "    followed by two more convolutions.\n",
    "    Values:\n",
    "        input_channels: the number of channels to expect from a given input\n",
    "    '''\n",
    "    def __init__(self, input_channels):\n",
    "        super(ExpandingBlock, self).__init__()\n",
    "        \n",
    "        # \"Every step in the expanding path consists of an upsampling of the feature map\"\n",
    "        self.upsample = nn.Upsample(scale_factor=2, mode='bilinear', align_corners=True)      \n",
    "        self.conv1 = nn.Conv2d(input_channels, input_channels//2, kernel_size=3, padding=(1,1))\n",
    "        self.conv2 = nn.Conv2d(input_channels, input_channels//2, kernel_size=3, padding=(1,1))\n",
    "        self.conv3 = nn.Conv2d(input_channels//2, input_channels//2, kernel_size=3, padding=(1,1))\n",
    "        \n",
    "        self.activation = nn.ReLU() # \"each followed by a ReLU\"\n",
    " \n",
    "    def forward(self, x, skip_con_x):\n",
    "        '''\n",
    "        Function for completing a forward pass of ExpandingBlock: \n",
    "        Given an image tensor, completes an expanding block and returns the transformed tensor.\n",
    "        Parameters:\n",
    "            x: image tensor of shape (batch size, channels, height, width)\n",
    "            skip_con_x: the image tensor from the contracting path (from the opposing block of x)\n",
    "                    for the skip connection\n",
    "                    \n",
    "        Note: In the original Unet implementation, the output shape is smaller than the input, which \n",
    "        requires a skip connection layer size to be matched with current layer. \n",
    "        In this application, since our input and output are to be same size, we will note crop the \n",
    "        skip connection layer. However, there is a placehold commented, if needed in future. \n",
    "        \n",
    "        '''\n",
    "        x = self.upsample(x)\n",
    "        x = self.conv1(x)        \n",
    "        #skip_con_x = crop(skip_con_x, x.shape)   # placeholder for cropping skip connection\n",
    "        x = torch.cat([x, skip_con_x], axis=1)\n",
    "        x = self.conv2(x)\n",
    "        x = self.activation(x)\n",
    "        x = self.conv3(x)\n",
    "        x = self.activation(x)\n",
    "        return x"
   ]
  },
  {
   "cell_type": "code",
   "execution_count": null,
   "metadata": {},
   "outputs": [],
   "source": [
    "#UNIT TEST\n",
    "def test_expanding_block(test_samples=1, test_channels=64*16, test_size=32):\n",
    "    test_block = ExpandingBlock(test_channels)\n",
    "    skip_con_x = torch.randn(test_samples, test_channels // 2, test_size * 2 + 6, test_size * 2 + 6)\n",
    "    x = torch.randn(test_samples, test_channels, test_size, test_size)\n",
    "    x = test_block.upsample(x)\n",
    "    #x = test_block.conv1(x)\n",
    "    # Make sure that the first convolution produces the right shape\n",
    "    print(x.shape)\n",
    "#     assert tuple(x.shape) == (test_samples, test_channels // 2,  test_size * 2 - 1, test_size * 2 - 1)\n",
    "#     orginal_x = crop(skip_con_x, x.shape)\n",
    "#     x = torch.cat([x, orginal_x], axis=1)\n",
    "#     x = test_block.conv2(x)\n",
    "#     # Make sure that the second convolution produces the right shape\n",
    "#     assert tuple(x.shape) == (test_samples, test_channels // 2,  test_size * 2 - 3, test_size * 2 - 3)\n",
    "#     x = test_block.conv3(x)\n",
    "#     # Make sure that the final convolution produces the right shape\n",
    "#     assert tuple(x.shape) == (test_samples, test_channels // 2,  test_size * 2 - 5, test_size * 2 - 5)\n",
    "#     x = test_block.activation(x)\n",
    "\n",
    "test_expanding_block()\n",
    "# print(\"Success!\")"
   ]
  },
  {
   "cell_type": "code",
   "execution_count": null,
   "metadata": {},
   "outputs": [],
   "source": [
    "1, 1024, 32, 32"
   ]
  },
  {
   "cell_type": "markdown",
   "metadata": {
    "hideCode": false,
    "hidePrompt": false
   },
   "source": [
    "### Final Layer\n",
    "This layer takes in a tensor with arbitrarily many tensors and produces a tensor with the same number of pixels but with the correct number of the output channels. \n",
    "At the final layer, a 1x1 convolution is used to map each 64-component feature vectore to the desired number of classes. In total the network has 23 convolutional layers"
   ]
  },
  {
   "cell_type": "code",
   "execution_count": null,
   "metadata": {
    "hideCode": false,
    "hidePrompt": false
   },
   "outputs": [],
   "source": [
    "class FeatureMapBlock(nn.Module):\n",
    "    '''\n",
    "    FeatureMapBlock Class\n",
    "    The final layer of a UNet - \n",
    "    maps each pixel to a pixel with the correct number of output dimensions\n",
    "    using a 1x1 convolution.\n",
    "    Values:\n",
    "        input_channels: the number of channels to expect from a given input\n",
    "    '''\n",
    "    def __init__(self, input_channels, output_channels):\n",
    "        super(FeatureMapBlock, self).__init__()\n",
    "        \n",
    "        # \"Every step in the expanding path consists of an upsampling of the feature map\"\n",
    "        self.conv = nn.Conv2d(input_channels, output_channels, kernel_size=1)\n",
    "        \n",
    "\n",
    "    def forward(self, x):\n",
    "        '''\n",
    "        Function for completing a forward pass of FeatureMapBlock: \n",
    "        Given an image tensor, returns it mapped to the desired number of channels.\n",
    "        Parameters:\n",
    "            x: image tensor of shape (batch size, channels, height, width)\n",
    "        '''\n",
    "        x = self.conv(x)\n",
    "        return x"
   ]
  },
  {
   "cell_type": "code",
   "execution_count": null,
   "metadata": {},
   "outputs": [],
   "source": [
    "# UNIT TEST\n",
    "# assert tuple(FeatureMapBlock(10, 60)(torch.randn(1, 10, 10, 10)).shape) == (1, 60, 10, 10)\n",
    "# print(\"Success!\")\n",
    "\n",
    "# print(FeatureMapBlock(1, 64)(torch.randn(1, 1, 512, 512)).shape)"
   ]
  },
  {
   "cell_type": "markdown",
   "metadata": {
    "hideCode": false,
    "hidePrompt": false
   },
   "source": [
    "## U-Net"
   ]
  },
  {
   "cell_type": "code",
   "execution_count": null,
   "metadata": {
    "hideCode": false,
    "hidePrompt": false
   },
   "outputs": [],
   "source": [
    "class UNet(nn.Module):\n",
    "    '''\n",
    "    UNet Class\n",
    "    A series of 4 contracting blocks followed by 4 expanding blocks to \n",
    "    transform an input image into the corresponding paired image, with an upfeature\n",
    "    layer at the start and a downfeature layer at the end\n",
    "    Values:\n",
    "        input_channels: the number of channels to expect from a given input\n",
    "        output_channels: the number of channels to expect for a given output\n",
    "    '''\n",
    "    def __init__(self, input_channels, output_channels, hidden_channels=64):\n",
    "        super(UNet, self).__init__()\n",
    "        \n",
    "        # \"Every step in the expanding path consists of an upsampling of the feature map\"\n",
    "        self.upfeature = FeatureMapBlock(input_channels, hidden_channels)\n",
    "        self.contract1 = ContractingBlock(hidden_channels)\n",
    "        self.contract2 = ContractingBlock(hidden_channels * 2)\n",
    "        self.contract3 = ContractingBlock(hidden_channels * 4)\n",
    "        self.contract4 = ContractingBlock(hidden_channels * 8)\n",
    "        self.expand1 = ExpandingBlock(hidden_channels * 16)\n",
    "        self.expand2 = ExpandingBlock(hidden_channels * 8)\n",
    "        self.expand3 = ExpandingBlock(hidden_channels * 4)\n",
    "        self.expand4 = ExpandingBlock(hidden_channels * 2)\n",
    "        self.downfeature = FeatureMapBlock(hidden_channels, output_channels)\n",
    "        \n",
    "    def forward(self, x):\n",
    "        '''\n",
    "        Function for completing a forward pass of UNet: \n",
    "        Given an image tensor, passes it through U-Net and returns the output.\n",
    "        Parameters:\n",
    "            x: image tensor of shape (batch size, channels, height, width)\n",
    "        '''\n",
    "        # Keep in mind that the expand function takes two inputs, \n",
    "        # both with the same number of channels. \n",
    "                \n",
    "        x0 = self.upfeature(x)\n",
    "        x1 = self.contract1(x0)        \n",
    "        x2 = self.contract2(x1)        \n",
    "        x3 = self.contract3(x2)\n",
    "        x4 = self.contract4(x3)\n",
    "        \n",
    "        x5 = self.expand1(x4, x3)\n",
    "        x6 = self.expand2(x5, x2)\n",
    "        x7 = self.expand3(x6, x1)\n",
    "        x8 = self.expand4(x7, x0)\n",
    "        xn = self.downfeature(x8)\n",
    "        \n",
    "        # To check if shapes are in right order        \n",
    "        #print('x:', x.shape)\n",
    "        #print('x0:', x0.shape)\n",
    "        #print('x1:', x1.shape)\n",
    "        #print('x2:', x2.shape)\n",
    "        #print('x3:', x3.shape)\n",
    "        #print('x4:', x4.shape)\n",
    "        #print('x5:', x5.shape)\n",
    "        #print('x6:', x6.shape)\n",
    "        #print('x7:', x7.shape)\n",
    "        #print('x8:', x8.shape)\n",
    "        #print('xn:', xn.shape)\n",
    "        \n",
    "        return xn"
   ]
  },
  {
   "cell_type": "code",
   "execution_count": null,
   "metadata": {
    "hideCode": false,
    "hidePrompt": false
   },
   "outputs": [],
   "source": [
    "# unit test\n",
    "test_unet = UNet(1,1)\n",
    "# print(test_unet(torch.randn(1, 1, 256, 256)).shape)\n",
    "print(test_unet(torch.randn(1, 1, 512, 512)).shape)"
   ]
  },
  {
   "cell_type": "markdown",
   "metadata": {
    "hideCode": false,
    "hidePrompt": false
   },
   "source": [
    "## Training\n",
    "\n",
    "  *   criterion: the loss function\n",
    "  *   n_epochs: the number of times you iterate through the entire dataset when training\n",
    "  *   input_dim: the number of channels of the input image\n",
    "  *   label_dim: the number of channels of the output image\n",
    "  *   display_step: how often to display/visualize the images\n",
    "  *   batch_size: the number of images per forward/backward pass\n",
    "  *   lr: the learning rate\n",
    "  *   initial_shape: the size of the input image (in pixels)\n",
    "  *   target_shape: the size of the output image (in pixels)\n",
    "  *   device: the device type\n",
    "\n",
    "This should take only a few minutes to train!"
   ]
  },
  {
   "cell_type": "code",
   "execution_count": null,
   "metadata": {
    "hideCode": false,
    "hidePrompt": false
   },
   "outputs": [],
   "source": [
    "# First load datasets\n",
    "\n",
    "filename_pp = \"D:/Machine_Learning/Xeek.ai/Fault_detection/Equinor Synthetic model/issap20_Pp.sgy\"\n",
    "# filename_ai = \"D:/Machine_Learning/Xeek.ai/Fault_detection/Equinor Synthetic model/issap20_AI.sgy\"\n",
    "filename_fault = \"D:/Machine_Learning/Xeek.ai/Fault_detection/Equinor Synthetic model/issap20_Fault.sgy\""
   ]
  },
  {
   "cell_type": "code",
   "execution_count": null,
   "metadata": {
    "hideCode": false,
    "hidePrompt": false
   },
   "outputs": [],
   "source": [
    "# Note: the the xline header info location is at segyio.su.cdpx [181]\n",
    "def segy2numpy(filename: str) -> np.array:\n",
    "    with segyio.open(filename, xline=181) as segyfile:\n",
    "        return segyio.tools.cube(segyfile)\n",
    "\n",
    "seismic = segy2numpy(filename_pp)\n",
    "# ai = segy2numpy(filename_ai)\n",
    "fault = segy2numpy(filename_fault)\n",
    "f\"Number of inlines: {seismic.shape[0]}, crosslines: {seismic.shape[1]}, samples: {seismic.shape[2]}\""
   ]
  },
  {
   "cell_type": "code",
   "execution_count": null,
   "metadata": {},
   "outputs": [],
   "source": [
    "def crop_input(image, new_shape):\n",
    "    '''\n",
    "    Function for cropping an image tensor: Given an image tensor and the new shape,\n",
    "    crops to the center pixels. Our data is of shape (101, 589, 751). Sometimes the odd shape causes\n",
    "    shape mismatches in the UNet. For quick test, we will use this function to create our dataset in\n",
    "    the shape of 512x512 which is a multiple of 32. \n",
    "    (Note: Need to test with the original shape if it works fine, in earlier attempt, it didn't!!!)\n",
    "    \n",
    "    Parameters:\n",
    "        image: image tensor of shape (batch size, channels, height, width)\n",
    "        new_shape: a torch.Size object with the shape you want x to have\n",
    "    '''\n",
    "    \n",
    "    h, w = image.shape[0], image.shape[1]\n",
    "    new_h, new_w = new_shape[0], new_shape[1]\n",
    "    \n",
    "    start_h = int((h - new_h + 1)/2)\n",
    "    start_w = int((w - new_w + 1)/2)\n",
    "    \n",
    "    cropped_image = image[start_h:start_h + new_h, start_w:start_w + new_w] \n",
    "    \n",
    "    return cropped_image"
   ]
  },
  {
   "cell_type": "code",
   "execution_count": null,
   "metadata": {},
   "outputs": [],
   "source": [
    "'''\n",
    "Earlier, I had problem feeding the data into the network in the current shape which is (101, 512, 512)\n",
    "The Pytorch implementation requires: (m, n, h, w) shape where,\n",
    "m = no. of samples (in this case, no. of inlines)\n",
    "n = number of channel ( 1 for greyscale or single channel)\n",
    "h, w = 512\n",
    "By concatenating each inlines into the list, I am trying to pretend each item on the list is a 2D image.\n",
    "After that, we unsqueeze in the position (0) to add a 1 dimension, i.e (1 x 512 x 512)\n",
    "Finally, we will stack all the item in the list to get a desired shape of (101, 1, 512, 512)\n",
    "'''\n",
    "new_shape = (512, 512)\n",
    "image_list = []\n",
    "fault_list = []\n",
    "for i in range(101):\n",
    "    images = torch.from_numpy(seismic[i])\n",
    "    image_list.append(crop_input(images, new_shape ).unsqueeze(0))\n",
    "    \n",
    "    faults = torch.from_numpy(fault[i])\n",
    "    fault_list.append(crop_input(faults, new_shape).unsqueeze(0))"
   ]
  },
  {
   "cell_type": "code",
   "execution_count": null,
   "metadata": {},
   "outputs": [],
   "source": [
    "plt.imshow(image_list[0].T, cmap=\"seismic\");"
   ]
  },
  {
   "cell_type": "code",
   "execution_count": null,
   "metadata": {},
   "outputs": [],
   "source": [
    "plt.imshow(fault_list[0].T, cmap=\"seismic\");"
   ]
  },
  {
   "cell_type": "code",
   "execution_count": null,
   "metadata": {},
   "outputs": [],
   "source": [
    "# Function to make the input data even multiple of 32\n",
    "\n",
    "# import torch.nn.functional as F\n",
    "\n",
    "# def pad_to(image, new_shape):\n",
    "#     h, w = image.shape[0], image.shape[1]\n",
    "#     new_h, new_w = new_shape[0], new_shape[1]\n",
    "    \n",
    "#     inc_h, inc_w = new_h -h, new_w - w\n",
    "#     left, right = 0, inc_w\n",
    "#     top, bottom = 0, inc_h\n",
    "#     pads = left, right, top, bottom \n",
    "    \n",
    "\n",
    "    \n",
    "# # For general, need to revisit\n",
    "# #     if h % stride > 0:\n",
    "# #         new_h = h + stride - h % stride\n",
    "# #     else:\n",
    "# #         new_h = h\n",
    "# #     if w % stride > 0:\n",
    "# #         new_w = w + stride - w % stride\n",
    "# #     else:\n",
    "# #         new_w = w\n",
    "# #     lh, uh = int((new_h-h) / 2), int(new_h-h) - int((new_h-h) / 2)\n",
    "# #     lw, uw = int((new_w-w) / 2), int(new_w-w) - int((new_w-w) / 2)\n",
    "# #     pads = (lw, uw, lh, uh)\n",
    "\n",
    "\n",
    "#     # zero-padding by default.\n",
    "#     # See others at https://pytorch.org/docs/stable/nn.functional.html#torch.nn.functional.pad\n",
    "#     out = F.pad(image, pads, \"constant\", 0)\n",
    "\n",
    "#     return out"
   ]
  },
  {
   "cell_type": "code",
   "execution_count": null,
   "metadata": {},
   "outputs": [],
   "source": [
    "# new_shape = (608, 768)\n",
    "# image_list = []\n",
    "# fault_list = []\n",
    "# for i in range(101):\n",
    "#     images = torch.from_numpy(seismic[i])\n",
    "#     image_list.append(pad_to(images, new_shape).unsqueeze(0))\n",
    "    \n",
    "#     faults = torch.from_numpy(fault[i])\n",
    "#     fault_list.append(pad_to(faults, new_shape).unsqueeze(0))"
   ]
  },
  {
   "cell_type": "code",
   "execution_count": null,
   "metadata": {},
   "outputs": [],
   "source": [
    "volumes = torch.stack(image_list)\n",
    "labels = torch.stack(fault_list)\n",
    "dataset = torch.utils.data.TensorDataset(volumes, labels)"
   ]
  },
  {
   "cell_type": "code",
   "execution_count": null,
   "metadata": {},
   "outputs": [],
   "source": [
    "volumes.shape, labels.shape"
   ]
  },
  {
   "cell_type": "code",
   "execution_count": null,
   "metadata": {},
   "outputs": [],
   "source": [
    "plt.imshow(volumes[100].T, cmap=\"gray\");"
   ]
  },
  {
   "cell_type": "code",
   "execution_count": null,
   "metadata": {},
   "outputs": [],
   "source": [
    "def show_tensor_images(image_tensor, num_images=25, size=(1, 28, 28)):\n",
    "    '''\n",
    "    Function for visualizing images: Given a tensor of images, number of images, and\n",
    "    size per image, plots and prints the images in an uniform grid.\n",
    "    '''\n",
    "    # image_shifted = (image_tensor + 1) / 2\n",
    "    image_shifted = image_tensor\n",
    "    image_unflat = image_shifted.detach().cpu().view(-1, *size)\n",
    "    image_grid = make_grid(image_unflat[:num_images], nrow=4)\n",
    "    plt.imshow(image_grid.permute(1, 2, 0).squeeze(), cmap='gray')\n",
    "    plt.show()"
   ]
  },
  {
   "cell_type": "code",
   "execution_count": null,
   "metadata": {},
   "outputs": [],
   "source": [
    "# show_tensor_images(volumes[0])"
   ]
  },
  {
   "cell_type": "code",
   "execution_count": null,
   "metadata": {},
   "outputs": [],
   "source": [
    "device = torch.device(\"cuda:0\" if (torch.cuda.is_available()) else \"cpu\")\n",
    "print(device)"
   ]
  },
  {
   "cell_type": "code",
   "execution_count": null,
   "metadata": {},
   "outputs": [],
   "source": [
    "# Hyperparameters\n",
    "criterion = nn.BCEWithLogitsLoss()\n",
    "n_epochs = 1    #200\n",
    "input_dim = 1\n",
    "label_dim = 1\n",
    "display_step = 500\n",
    "batch_size = 1\n",
    "lr = 0.0002\n",
    "initial_shape = 512\n",
    "target_shape = 512\n",
    "device = 'cuda'"
   ]
  },
  {
   "cell_type": "code",
   "execution_count": null,
   "metadata": {
    "hideCode": false,
    "hidePrompt": false
   },
   "outputs": [],
   "source": [
    "def train():\n",
    "    dataloader = DataLoader(\n",
    "        dataset,\n",
    "        batch_size=batch_size,\n",
    "        shuffle=True)\n",
    "    unet = UNet(input_dim, label_dim).to(device)\n",
    "    unet_opt = torch.optim.Adam(unet.parameters(), lr=lr)\n",
    "    cur_step = 0\n",
    "    \n",
    "    train_losses = []\n",
    "\n",
    "    for epoch in range(n_epochs):\n",
    "                \n",
    "        for real, labels in tqdm(dataloader):\n",
    "            \n",
    "            cur_batch_size = len(real)\n",
    "            # Flatten the image\n",
    "            real = real.to(device)\n",
    "            labels = labels.to(device)            \n",
    "                      \n",
    "\n",
    "            ### Update U-Net ###\n",
    "            unet_opt.zero_grad()\n",
    "            pred = unet(real)\n",
    "            #print(pred.shape)\n",
    "            unet_loss = criterion(pred, labels)\n",
    "            unet_loss.backward()\n",
    "            unet_opt.step()\n",
    "            \n",
    "\n",
    "            if cur_step % display_step == 0:\n",
    "                print(f\"Epoch {epoch}: Step {cur_step}: U-Net loss: {unet_loss.item()}\")\n",
    "                #show_tensor_images(\n",
    "                    #crop(real, torch.Size([len(real), 1, target_shape, target_shape])), \n",
    "                    #size=(input_dim, target_shape, target_shape)\n",
    "                #)\n",
    "                show_tensor_images(real, size=(input_dim, target_shape, target_shape))\n",
    "                show_tensor_images(labels, size=(label_dim, target_shape, target_shape))\n",
    "                show_tensor_images(torch.sigmoid(pred), size=(label_dim, target_shape, target_shape))\n",
    "            cur_step += 1\n",
    "        \n",
    "        train_losses.append(unet_loss)\n",
    "        \n",
    "    return pred, train_losses"
   ]
  },
  {
   "cell_type": "code",
   "execution_count": null,
   "metadata": {
    "hideCode": false,
    "hidePrompt": false,
    "scrolled": true
   },
   "outputs": [],
   "source": [
    "pred, loss = train()"
   ]
  },
  {
   "cell_type": "code",
   "execution_count": null,
   "metadata": {},
   "outputs": [],
   "source": [
    "plt.plot(loss, label = 'loss')\n",
    "plt.xlabel('Epoch')\n",
    "plt.ylabel('Metric')\n",
    "plt.legend()\n",
    "plt.show()"
   ]
  },
  {
   "cell_type": "code",
   "execution_count": null,
   "metadata": {},
   "outputs": [],
   "source": [
    "# # Save weights\n",
    "# torch.save(unet.cpu().state_dict(), model_path)\n",
    "# unet.eval()"
   ]
  },
  {
   "cell_type": "code",
   "execution_count": null,
   "metadata": {},
   "outputs": [],
   "source": []
  }
 ],
 "metadata": {
  "hide_code_all_hidden": false,
  "kernelspec": {
   "display_name": "Python 3",
   "language": "python",
   "name": "python3"
  },
  "language_info": {
   "codemirror_mode": {
    "name": "ipython",
    "version": 3
   },
   "file_extension": ".py",
   "mimetype": "text/x-python",
   "name": "python",
   "nbconvert_exporter": "python",
   "pygments_lexer": "ipython3",
   "version": "3.7.9"
  }
 },
 "nbformat": 4,
 "nbformat_minor": 4
}
